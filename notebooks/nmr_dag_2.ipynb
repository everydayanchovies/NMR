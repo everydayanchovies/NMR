{
 "cells": [
  {
   "cell_type": "code",
   "execution_count": 1,
   "metadata": {
    "collapsed": true
   },
   "outputs": [],
   "source": [
    "# import pandas as pd\n",
    "# import numpy as np\n",
    "# import math\n",
    "import matplotlib.pyplot as plt\n",
    "# import matplotlib\n",
    "# from lmfit import models\n",
    "from utils.scopeutil import *\n",
    "from utils.OOMFormatter import OOMFormatter"
   ]
  },
  {
   "cell_type": "code",
   "execution_count": 3,
   "metadata": {
    "collapsed": false,
    "pycharm": {
     "name": "#%%\n"
    }
   },
   "outputs": [
    {
     "name": "stdout",
     "output_type": "stream",
     "text": [
      "5.663999974799999\n",
      "6.272000068\n",
      "4.7680001248\n",
      "5.1840000508\n",
      "5.3120000240000005\n",
      "5.248000027600001\n",
      "5.6639999551999995\n",
      "5.759999998399999\n",
      "6.272000066799999\n",
      "5.2800000555999995\n"
     ]
    }
   ],
   "source": [
    "\n",
    "for (delay, df) in get_df_of_all_delays(\n",
    "        stof=STOF_ACETOON,\n",
    "        verhouding=\"1_0\",\n",
    "        T=T2,\n",
    "        signal_index=SI_SIGNAL):\n",
    "\n",
    "    # df.plot()\n",
    "\n",
    "    distilled = My_for_T2_df(df)\n",
    "    print(distilled)\n"
   ]
  },
  {
   "cell_type": "code",
   "execution_count": 2,
   "outputs": [],
   "source": [],
   "metadata": {
    "collapsed": false,
    "pycharm": {
     "name": "#%%\n"
    }
   }
  }
 ],
 "metadata": {
  "kernelspec": {
   "display_name": "Python 3",
   "language": "python",
   "name": "python3"
  },
  "language_info": {
   "codemirror_mode": {
    "name": "ipython",
    "version": 3
   },
   "file_extension": ".py",
   "mimetype": "text/x-python",
   "name": "python",
   "nbconvert_exporter": "python",
   "pygments_lexer": "ipython3",
   "version": "3.8.8"
  }
 },
 "nbformat": 4,
 "nbformat_minor": 0
}