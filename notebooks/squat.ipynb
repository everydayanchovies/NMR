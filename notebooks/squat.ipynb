{
 "cells": [
  {
   "cell_type": "code",
   "execution_count": null,
   "outputs": [],
   "source": [
    "import lmfit.models\n",
    "import pandas as pd\n",
    "import numpy as np\n",
    "import math\n",
    "import matplotlib.pyplot as plt\n",
    "from lmfit import models"
   ],
   "metadata": {
    "collapsed": false,
    "pycharm": {
     "name": "#%%\n"
    }
   }
  },
  {
   "cell_type": "code",
   "execution_count": 22,
   "outputs": [
    {
     "data": {
      "text/plain": "   stance width     impulse     error\n0             0  161.170658  6.005381\n1            10  171.565045  3.825325\n2            20  171.038662  3.080887\n3            30  175.302728  5.350336\n4            40  193.371009  6.911534\n5            50  177.071976  0.703771\n6            60  188.268868  7.498550\n7            70  184.368025  4.715182\n8            80  170.993129  2.384634",
      "text/html": "<div>\n<style scoped>\n    .dataframe tbody tr th:only-of-type {\n        vertical-align: middle;\n    }\n\n    .dataframe tbody tr th {\n        vertical-align: top;\n    }\n\n    .dataframe thead th {\n        text-align: right;\n    }\n</style>\n<table border=\"1\" class=\"dataframe\">\n  <thead>\n    <tr style=\"text-align: right;\">\n      <th></th>\n      <th>stance width</th>\n      <th>impulse</th>\n      <th>error</th>\n    </tr>\n  </thead>\n  <tbody>\n    <tr>\n      <th>0</th>\n      <td>0</td>\n      <td>161.170658</td>\n      <td>6.005381</td>\n    </tr>\n    <tr>\n      <th>1</th>\n      <td>10</td>\n      <td>171.565045</td>\n      <td>3.825325</td>\n    </tr>\n    <tr>\n      <th>2</th>\n      <td>20</td>\n      <td>171.038662</td>\n      <td>3.080887</td>\n    </tr>\n    <tr>\n      <th>3</th>\n      <td>30</td>\n      <td>175.302728</td>\n      <td>5.350336</td>\n    </tr>\n    <tr>\n      <th>4</th>\n      <td>40</td>\n      <td>193.371009</td>\n      <td>6.911534</td>\n    </tr>\n    <tr>\n      <th>5</th>\n      <td>50</td>\n      <td>177.071976</td>\n      <td>0.703771</td>\n    </tr>\n    <tr>\n      <th>6</th>\n      <td>60</td>\n      <td>188.268868</td>\n      <td>7.498550</td>\n    </tr>\n    <tr>\n      <th>7</th>\n      <td>70</td>\n      <td>184.368025</td>\n      <td>4.715182</td>\n    </tr>\n    <tr>\n      <th>8</th>\n      <td>80</td>\n      <td>170.993129</td>\n      <td>2.384634</td>\n    </tr>\n  </tbody>\n</table>\n</div>"
     },
     "execution_count": 22,
     "metadata": {},
     "output_type": "execute_result"
    }
   ],
   "source": [
    "df = pd.read_csv(\"../data/squat.csv\")\n",
    "df"
   ],
   "metadata": {
    "collapsed": false,
    "pycharm": {
     "name": "#%%\n"
    }
   }
  },
  {
   "cell_type": "code",
   "execution_count": 23,
   "outputs": [],
   "source": [
    "x = df['stance width']\n",
    "y = df['impulse']\n",
    "err = df['error']"
   ],
   "metadata": {
    "collapsed": false,
    "pycharm": {
     "name": "#%%\n"
    }
   }
  },
  {
   "cell_type": "code",
   "execution_count": 24,
   "outputs": [
    {
     "data": {
      "text/plain": "Text(0, 0.5, 'Impulse (kg m / s)')"
     },
     "execution_count": 24,
     "metadata": {},
     "output_type": "execute_result"
    },
    {
     "data": {
      "text/plain": "<Figure size 432x288 with 1 Axes>",
      "image/png": "[encoded data removed]"
     },
     "metadata": {
      "needs_background": "light"
     },
     "output_type": "display_data"
    }
   ],
   "source": [
    "plt.scatter(x, y)\n",
    "plt.xlabel(\"Stance width (cm)\")\n",
    "plt.ylabel(\"Impulse (kg m / s)\")"
   ],
   "metadata": {
    "collapsed": false,
    "pycharm": {
     "name": "#%%\n"
    }
   }
  },
  {
   "cell_type": "code",
   "execution_count": 31,
   "outputs": [],
   "source": [
    "lin_model = models.LinearModel()\n",
    "first_guess_lm = lin_model.guess(y, x)\n",
    "first_guess_lm['slope'].value = 0\n",
    "first_guess_lm['slope'].vary = False"
   ],
   "metadata": {
    "collapsed": false,
    "pycharm": {
     "name": "#%%\n"
    }
   }
  },
  {
   "cell_type": "code",
   "execution_count": 32,
   "outputs": [
    {
     "data": {
      "text/plain": "<lmfit.model.ModelResult at 0x1502e46a0>",
      "text/html": "<h2> Model</h2> Model(linear) <h2>Fit Statistics</h2><table><tr><td>fitting method</td><td>leastsq</td><td></td></tr><tr><td># function evals</td><td>4</td><td></td></tr><tr><td># data points</td><td>9</td><td></td></tr><tr><td># variables</td><td>1</td><td></td></tr><tr><td>chi-square</td><td> 28.5416077</td><td></td></tr><tr><td>reduced chi-square</td><td> 3.56770097</td><td></td></tr><tr><td>Akaike info crit.</td><td> 12.3872453</td><td></td></tr><tr><td>Bayesian info crit.</td><td> 12.5844699</td><td></td></tr></table><h2>Variables</h2><table><tr><th> name </th><th> value </th><th> standard error </th><th> relative error </th><th> initial value </th><th> min </th><th> max </th><th> vary </th></tr><tr><td> slope </td><td>  0.00000000 </td><td>  0.00000000 </td><td>  </td><td> 0 </td><td>        -inf </td><td>         inf </td><td> False </td></tr><tr><td> intercept </td><td>  176.389970 </td><td>  1.19105853 </td><td> (0.68%) </td><td> 169.421445742754 </td><td>        -inf </td><td>         inf </td><td> True </td></tr></table>"
     },
     "execution_count": 32,
     "metadata": {},
     "output_type": "execute_result"
    }
   ],
   "source": [
    "fit_lm = lin_model.fit(y, x=x, weights=1 / err, params=first_guess_lm)\n",
    "fit_lm"
   ],
   "metadata": {
    "collapsed": false,
    "pycharm": {
     "name": "#%%\n"
    }
   }
  },
  {
   "cell_type": "code",
   "execution_count": 39,
   "outputs": [
    {
     "data": {
      "text/plain": "3.5677009669350737"
     },
     "execution_count": 39,
     "metadata": {},
     "output_type": "execute_result"
    },
    {
     "data": {
      "text/plain": "<Figure size 432x432 with 2 Axes>",
      "image/png": "[encoded data removed]"
     },
     "metadata": {
      "needs_background": "light"
     },
     "output_type": "display_data"
    }
   ],
   "source": [
    "fit_lm.plot(numpoints=50)"
   ],
   "metadata": {
    "collapsed": false,
    "pycharm": {
     "name": "#%%\n"
    }
   }
  },
  {
   "cell_type": "code",
   "execution_count": 38,
   "outputs": [
    {
     "data": {
      "text/plain": "<AxesSubplot:title={'center':'Model(Polynomial model)'}, xlabel='x', ylabel='y'>"
     },
     "execution_count": 38,
     "metadata": {},
     "output_type": "execute_result"
    },
    {
     "data": {
      "text/plain": "<Figure size 432x288 with 1 Axes>",
      "image/png": "[encoded data removed]"
     },
     "metadata": {
      "needs_background": "light"
     },
     "output_type": "display_data"
    }
   ],
   "source": [
    "poly_f = lambda x, x0, a, b: a + b * (x - x0) ** 2\n",
    "poly_model = models.Model(poly_f, name=\"Polynomial model\")\n",
    "\n",
    "fit_pm = poly_model.fit(y, x=x, weights=1 / err, x0=0, a=0, b=0)\n",
    "\n",
    "fit_pm.plot_fit(numpoints=50)"
   ],
   "metadata": {
    "collapsed": false,
    "pycharm": {
     "name": "#%%\n"
    }
   }
  },
  {
   "cell_type": "code",
   "execution_count": 40,
   "outputs": [
    {
     "name": "stdout",
     "output_type": "stream",
     "text": [
      "Linear fit redchi: 3.5677009669350737\n",
      "Polynomial fit redchi: 2.2303201823899426\n"
     ]
    }
   ],
   "source": [
    "print(f\"Linear fit redchi: {fit_lm.redchi}\")\n",
    "print(f\"Polynomial fit redchi: {fit_pm.redchi}\")"
   ],
   "metadata": {
    "collapsed": false,
    "pycharm": {
     "name": "#%%\n"
    }
   }
  },
  {
   "cell_type": "code",
   "execution_count": null,
   "outputs": [],
   "source": [],
   "metadata": {
    "collapsed": false,
    "pycharm": {
     "name": "#%%\n"
    }
   }
  }
 ],
 "metadata": {
  "kernelspec": {
   "display_name": "Python 3",
   "language": "python",
   "name": "python3"
  },
  "language_info": {
   "codemirror_mode": {
    "name": "ipython",
    "version": 2
   },
   "file_extension": ".py",
   "mimetype": "text/x-python",
   "name": "python",
   "nbconvert_exporter": "python",
   "pygments_lexer": "ipython2",
   "version": "2.7.6"
  }
 },
 "nbformat": 4,
 "nbformat_minor": 0
}