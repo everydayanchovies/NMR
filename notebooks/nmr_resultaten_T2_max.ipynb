{
 "cells": [
  {
   "cell_type": "code",
   "execution_count": 1,
   "metadata": {
    "collapsed": true
   },
   "outputs": [],
   "source": [
    "# import pandas as pd\n",
    "# import numpy as np\n",
    "# import math\n",
    "import matplotlib.pyplot as plt\n",
    "# import matplotlib\n",
    "# from lmfit import models\n",
    "from utils.scopeutil import *\n",
    "from utils.OOMFormatter import OOMFormatter\n",
    "from models.T2_simple_model import *\n",
    "from scipy import stats "
   ]
  },
  {
   "cell_type": "code",
   "execution_count": 7,
   "metadata": {
    "collapsed": false,
    "pycharm": {
     "name": "#%%\n"
    }
   },
   "outputs": [],
   "source": [
    "def process_T2_results(stof, verhouding, trim_tail=0, v=False):\n",
    "    My_delay_pairs = []\n",
    "    for (delay, df) in get_df_of_all_delays(\n",
    "            stof,\n",
    "            verhouding,\n",
    "            T=T2,\n",
    "            signal_index=SI_SIGNAL):\n",
    "\n",
    "        My = My_for_T2_df(df, v)\n",
    "\n",
    "        if My == -1:\n",
    "            continue\n",
    "\n",
    "        # we willen de absolute waarde van alles\n",
    "        # Er kunnen negatieve waardes zijn ivm meetonzekerheid, deze worden dus weggehaald\n",
    "        My = max(0, My)\n",
    "\n",
    "        My_delay_pairs.append((My, delay))\n",
    "\n",
    "    M0 = My_delay_pairs[0][0]\n",
    "\n",
    "    # eerste drie elementen weghalen omdat die niet goed in ons onderzoek passen\n",
    "    # Bij de eerste 4 elementen hebben we zo dicht gemeten op pi dat het geen aangroei tijd had\n",
    "    # De meetpunten in dat gebied zijn weggehaald\n",
    "    My_delay_pairs = My_delay_pairs[trim_tail:]\n",
    "\n",
    "    uncertainties = np.array([T_uncertainty_for_stof(stof) for _ in range(len(My_delay_pairs))])\n",
    "    uncertainties += T_uncertainty_due_to_noise(v)\n",
    "    weights = 1 / uncertainties\n",
    "\n",
    "    fit_T2 = model_T2.fit([My for (My, delay) in My_delay_pairs], t=[delay for (My, delay) in My_delay_pairs], M0=M0, T2=1000, weights=weights)\n",
    "\n",
    "    pvalue = 1 - stats.chi2.cdf(fit_T2.chisqr, fit_T2.nfree)\n",
    "\n",
    "    if v:\n",
    "        fit_T2.plot()\n",
    "        print(f\"De p waarde is {pvalue:.9f}.\")\n",
    "        print(fit_T2.fit_report())\n",
    "\n",
    "    return fit_T2, pvalue"
   ]
  },
  {
   "cell_type": "code",
   "execution_count": 8,
   "outputs": [
    {
     "name": "stdout",
     "output_type": "stream",
     "text": [
      "10.30400057372\n"
     ]
    },
    {
     "data": {
      "text/plain": "<lmfit.model.ModelResult at 0x7fbd6a6d5760>",
      "text/html": "<h2> Model</h2> Model(<lambda>) <h2>Fit Statistics</h2><table><tr><td>fitting method</td><td>leastsq</td><td></td></tr><tr><td># function evals</td><td>47</td><td></td></tr><tr><td># data points</td><td>11</td><td></td></tr><tr><td># variables</td><td>2</td><td></td></tr><tr><td>chi-square</td><td> 6.84768995</td><td></td></tr><tr><td>reduced chi-square</td><td> 0.76085444</td><td></td></tr><tr><td>Akaike info crit.</td><td>-1.21382302</td><td></td></tr><tr><td>Bayesian info crit.</td><td>-0.41803248</td><td></td></tr></table><h2>Variables</h2><table><tr><th> name </th><th> value </th><th> standard error </th><th> relative error </th><th> initial value </th><th> min </th><th> max </th><th> vary </th></tr><tr><td> M0 </td><td>  70.0934698 </td><td>  12.8553094 </td><td> (18.34%) </td><td> 10.30400057372 </td><td>        -inf </td><td>         inf </td><td> True </td></tr><tr><td> T2 </td><td>  302.711370 </td><td>  18.2554935 </td><td> (6.03%) </td><td> 1000 </td><td>        -inf </td><td>         inf </td><td> True </td></tr></table><h2>Correlations (unreported correlations are < 0.100)</h2><table><tr><td>M0</td><td>T2</td><td>-0.9915</td></tr></table>"
     },
     "execution_count": 8,
     "metadata": {},
     "output_type": "execute_result"
    },
    {
     "data": {
      "text/plain": "<Figure size 432x432 with 2 Axes>",
      "image/png": "[encoded data removed]"
     },
     "metadata": {
      "needs_background": "light"
     },
     "output_type": "display_data"
    }
   ],
   "source": [
    "fit_T2, pvalue = process_T2_results(STOF_KOPERCHLORIDE_ACETOON, \"1_1\", trim_tail=0)\n",
    "\n",
    "fit_T2.plot(title=r\"$T_2$ fit; Koperchloride Aceton 1:1\", xlabel=r\"Delay [$\\mu s$]\", ylabel=\"Gemeten spanning, evenredig met $M_y$ [$V$]\")\n",
    "fit_T2"
   ],
   "metadata": {
    "collapsed": false,
    "pycharm": {
     "name": "#%%\n"
    }
   }
  },
  {
   "cell_type": "code",
   "execution_count": 4,
   "outputs": [
    {
     "name": "stdout",
     "output_type": "stream",
     "text": [
      "ERROR! DATAPUNT IS ONGELDIG GEMAAKT\n"
     ]
    },
    {
     "ename": "IndexError",
     "evalue": "list index out of range",
     "output_type": "error",
     "traceback": [
      "\u001B[0;31m---------------------------------------------------------------------------\u001B[0m",
      "\u001B[0;31mIndexError\u001B[0m                                Traceback (most recent call last)",
      "\u001B[0;32m<ipython-input-4-25fb9b8415b5>\u001B[0m in \u001B[0;36m<module>\u001B[0;34m\u001B[0m\n\u001B[0;32m----> 1\u001B[0;31m \u001B[0mfit_T2\u001B[0m\u001B[0;34m,\u001B[0m \u001B[0mpvalue\u001B[0m \u001B[0;34m=\u001B[0m \u001B[0mprocess_T2_results\u001B[0m\u001B[0;34m(\u001B[0m\u001B[0mSTOF_KOPERCHLORIDE_A\u001B[0m\u001B[0;34m,\u001B[0m \u001B[0;34m\"1_0\"\u001B[0m\u001B[0;34m)\u001B[0m\u001B[0;34m\u001B[0m\u001B[0;34m\u001B[0m\u001B[0m\n\u001B[0m\u001B[1;32m      2\u001B[0m \u001B[0mfit_T2\u001B[0m\u001B[0;34m.\u001B[0m\u001B[0mplot\u001B[0m\u001B[0;34m(\u001B[0m\u001B[0mtitle\u001B[0m\u001B[0;34m=\u001B[0m\u001B[0;34mr\"$T_2$ fit; Koperchloride(A) water 1:1\"\u001B[0m\u001B[0;34m,\u001B[0m \u001B[0mxlabel\u001B[0m\u001B[0;34m=\u001B[0m\u001B[0;34mr\"Delay [$\\mu s$]\"\u001B[0m\u001B[0;34m,\u001B[0m \u001B[0mylabel\u001B[0m\u001B[0;34m=\u001B[0m\u001B[0;34m\"Gemeten spanning, evenredig met $M_y$ [$V$]\"\u001B[0m\u001B[0;34m)\u001B[0m\u001B[0;34m\u001B[0m\u001B[0;34m\u001B[0m\u001B[0m\n\u001B[1;32m      3\u001B[0m \u001B[0mfit_T2\u001B[0m\u001B[0;34m\u001B[0m\u001B[0;34m\u001B[0m\u001B[0m\n\u001B[1;32m      4\u001B[0m \u001B[0;34m\u001B[0m\u001B[0m\n",
      "\u001B[0;32m<ipython-input-2-b68762cd5c6a>\u001B[0m in \u001B[0;36mprocess_T2_results\u001B[0;34m(stof, verhouding, trim_tail, v)\u001B[0m\n\u001B[1;32m     18\u001B[0m         \u001B[0mMy_delay_pairs\u001B[0m\u001B[0;34m.\u001B[0m\u001B[0mappend\u001B[0m\u001B[0;34m(\u001B[0m\u001B[0;34m(\u001B[0m\u001B[0mMy\u001B[0m\u001B[0;34m,\u001B[0m \u001B[0mdelay\u001B[0m\u001B[0;34m)\u001B[0m\u001B[0;34m)\u001B[0m\u001B[0;34m\u001B[0m\u001B[0;34m\u001B[0m\u001B[0m\n\u001B[1;32m     19\u001B[0m \u001B[0;34m\u001B[0m\u001B[0m\n\u001B[0;32m---> 20\u001B[0;31m     \u001B[0mM0\u001B[0m \u001B[0;34m=\u001B[0m \u001B[0mMy_delay_pairs\u001B[0m\u001B[0;34m[\u001B[0m\u001B[0;36m0\u001B[0m\u001B[0;34m]\u001B[0m\u001B[0;34m[\u001B[0m\u001B[0;36m0\u001B[0m\u001B[0;34m]\u001B[0m\u001B[0;34m\u001B[0m\u001B[0;34m\u001B[0m\u001B[0m\n\u001B[0m\u001B[1;32m     21\u001B[0m \u001B[0;34m\u001B[0m\u001B[0m\n\u001B[1;32m     22\u001B[0m     \u001B[0;31m# eerste drie elementen weghalen omdat die niet goed in ons onderzoek passen\u001B[0m\u001B[0;34m\u001B[0m\u001B[0;34m\u001B[0m\u001B[0;34m\u001B[0m\u001B[0m\n",
      "\u001B[0;31mIndexError\u001B[0m: list index out of range"
     ]
    }
   ],
   "source": [
    "fit_T2, pvalue = process_T2_results(STOF_KOPERCHLORIDE_A, \"1_0\")\n",
    "fit_T2.plot(title=r\"$T_2$ fit; Koperchloride(A) water 1:1\", xlabel=r\"Delay [$\\mu s$]\", ylabel=\"Gemeten spanning, evenredig met $M_y$ [$V$]\")\n",
    "fit_T2"
   ],
   "metadata": {
    "collapsed": false,
    "pycharm": {
     "name": "#%%\n"
    }
   }
  },
  {
   "cell_type": "code",
   "execution_count": null,
   "outputs": [],
   "source": [
    "fit_T2, pvalue= process_T2_results(STOF_KOPERCHLORIDE_B, \"1_0\")\n",
    "fit_T2.plot(title=r\"$T_2$ fit; Koperchloride(B) (ongemengd)\", xlabel=r\"Delay [$\\mu s$]\", ylabel=\"Gemeten spanning, evenredig met $M_y$ [$V$]\")\n",
    "fit_T2"
   ],
   "metadata": {
    "collapsed": false,
    "pycharm": {
     "name": "#%%\n"
    }
   }
  },
  {
   "cell_type": "code",
   "execution_count": null,
   "outputs": [],
   "source": [
    "fit_T2, pvalue= process_T2_results(STOF_KOPERCHLORIDE_B, \"1_1\")\n",
    "fit_T2.plot(title=r\"$T_2$ fit; Koperchloride(B) water 1:1\", xlabel=r\"Delay [$\\mu s$]\", ylabel=\"Gemeten spanning, evenredig met $M_y$ [$V$]\")\n",
    "fit_T2"
   ],
   "metadata": {
    "collapsed": false,
    "pycharm": {
     "name": "#%%\n"
    }
   }
  },
  {
   "cell_type": "code",
   "execution_count": null,
   "outputs": [],
   "source": [
    "fit_T2, pvalue= process_T2_results(STOF_ACETOON, \"1_0\")\n",
    "fit_T2.plot(title=r\"$T_2$ fit; Aceton (ongemengd)\", xlabel=r\"Delay [$\\mu s$]\", ylabel=\"Gemeten spanning, evenredig met $M_y$ [$V$]\")\n",
    "fit_T2"
   ],
   "metadata": {
    "collapsed": false,
    "pycharm": {
     "name": "#%%\n"
    }
   }
  },
  {
   "cell_type": "code",
   "execution_count": null,
   "outputs": [],
   "source": [
    "\n"
   ],
   "metadata": {
    "collapsed": false,
    "pycharm": {
     "name": "#%%\n"
    }
   }
  }
 ],
 "metadata": {
  "kernelspec": {
   "display_name": "Python 3",
   "language": "python",
   "name": "python3"
  },
  "language_info": {
   "codemirror_mode": {
    "name": "ipython",
    "version": 3
   },
   "file_extension": ".py",
   "mimetype": "text/x-python",
   "name": "python",
   "nbconvert_exporter": "python",
   "pygments_lexer": "ipython3",
   "version": "3.8.8"
  }
 },
 "nbformat": 4,
 "nbformat_minor": 0
}