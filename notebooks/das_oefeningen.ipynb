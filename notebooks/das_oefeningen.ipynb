{
 "cells": [
  {
   "cell_type": "code",
   "execution_count": 2,
   "metadata": {
    "collapsed": true
   },
   "outputs": [],
   "source": [
    "import pandas as pd\n",
    "import numpy as np\n",
    "import math\n",
    "import matplotlib.pyplot as plt\n",
    "import matplotlib\n",
    "from lmfit import models"
   ]
  },
  {
   "cell_type": "code",
   "execution_count": 3,
   "outputs": [
    {
     "name": "stdout",
     "output_type": "stream",
     "text": [
      "1. Average: 71.80, STD: 5.25, STD of average: 1.66\n",
      "2. Result: 71.80 ± 1.66\n",
      "3. Chance of x >= 75 is 0.27\n"
     ]
    }
   ],
   "source": [
    "df10 = pd.read_csv(\"../data/10-metingen.csv\")\n",
    "\n",
    "df10_mean = df10.mean()\n",
    "df10_std = df10.std()\n",
    "df10_std_mean = df10_std / np.sqrt(df10.size)\n",
    "\n",
    "print(\"1. Average: %.2f, STD: %.2f, STD of average: %.2f\" % (df10_mean, df10_std, df10_std_mean))\n",
    "\n",
    "print(\"2. Result: %.2f ± %.2f\" % (df10_mean, df10_std_mean))\n",
    "\n",
    "# $$(1 - erf(dist_sigma / sqrt(2))) / 2$$\n",
    "print(\"3. Chance of x >= 75 is %.2f\" % ((1 - math.erf((75 - df10_mean) / (df10_std * np.sqrt(2)))) / 2))"
   ],
   "metadata": {
    "collapsed": false,
    "pycharm": {
     "name": "#%%\n"
    }
   }
  },
  {
   "cell_type": "code",
   "execution_count": 4,
   "outputs": [
    {
     "data": {
      "text/plain": "               y\ncount  80.000000\nmean   61.587500\nstd    16.779051\nmin    22.000000\n25%    49.000000\n50%    63.500000\n75%    75.000000\nmax    91.000000",
      "text/html": "<div>\n<style scoped>\n    .dataframe tbody tr th:only-of-type {\n        vertical-align: middle;\n    }\n\n    .dataframe tbody tr th {\n        vertical-align: top;\n    }\n\n    .dataframe thead th {\n        text-align: right;\n    }\n</style>\n<table border=\"1\" class=\"dataframe\">\n  <thead>\n    <tr style=\"text-align: right;\">\n      <th></th>\n      <th>y</th>\n    </tr>\n  </thead>\n  <tbody>\n    <tr>\n      <th>count</th>\n      <td>80.000000</td>\n    </tr>\n    <tr>\n      <th>mean</th>\n      <td>61.587500</td>\n    </tr>\n    <tr>\n      <th>std</th>\n      <td>16.779051</td>\n    </tr>\n    <tr>\n      <th>min</th>\n      <td>22.000000</td>\n    </tr>\n    <tr>\n      <th>25%</th>\n      <td>49.000000</td>\n    </tr>\n    <tr>\n      <th>50%</th>\n      <td>63.500000</td>\n    </tr>\n    <tr>\n      <th>75%</th>\n      <td>75.000000</td>\n    </tr>\n    <tr>\n      <th>max</th>\n      <td>91.000000</td>\n    </tr>\n  </tbody>\n</table>\n</div>"
     },
     "execution_count": 4,
     "metadata": {},
     "output_type": "execute_result"
    }
   ],
   "source": [
    "df80 = pd.read_csv(\"../data/80-metingen.csv\")\n",
    "\n",
    "df80.describe()"
   ],
   "metadata": {
    "collapsed": false,
    "pycharm": {
     "name": "#%%\n"
    }
   }
  },
  {
   "cell_type": "code",
   "execution_count": 5,
   "outputs": [
    {
     "data": {
      "text/plain": "Text(0, 0.5, 'Count')"
     },
     "execution_count": 5,
     "metadata": {},
     "output_type": "execute_result"
    },
    {
     "data": {
      "text/plain": "<Figure size 432x288 with 1 Axes>",
      "image/png": "[encoded data removed]"
     },
     "metadata": {
      "needs_background": "light"
     },
     "output_type": "display_data"
    }
   ],
   "source": [
    "bins = np.arange(20, 101, 10)\n",
    "\n",
    "plt.figure()\n",
    "df80.y.hist(bins=bins)\n",
    "plt.xlabel(\"Value\")\n",
    "plt.ylabel(\"Count\")"
   ],
   "metadata": {
    "collapsed": false,
    "pycharm": {
     "name": "#%%\n"
    }
   }
  },
  {
   "cell_type": "code",
   "execution_count": 6,
   "outputs": [
    {
     "data": {
      "text/plain": "<matplotlib.collections.PathCollection at 0x12fe06be0>"
     },
     "execution_count": 6,
     "metadata": {},
     "output_type": "execute_result"
    },
    {
     "data": {
      "text/plain": "<Figure size 432x288 with 1 Axes>",
      "image/png": "[encoded data removed]"
     },
     "metadata": {
      "needs_background": "light"
     },
     "output_type": "display_data"
    }
   ],
   "source": [
    "y, bins = np.histogram(df80.y, bins=bins)\n",
    "x = (bins[:-1]+bins[1:])/2\n",
    "\n",
    "plt.figure()\n",
    "plt.scatter(x, y)"
   ],
   "metadata": {
    "collapsed": false,
    "pycharm": {
     "name": "#%%\n"
    }
   }
  },
  {
   "cell_type": "code",
   "execution_count": 7,
   "outputs": [
    {
     "data": {
      "text/plain": "Parameters([('amplitude', <Parameter 'amplitude', value=720.0, bounds=[-inf:inf]>), ('center', <Parameter 'center', value=60.0, bounds=[-inf:inf]>), ('sigma', <Parameter 'sigma', value=15.0, bounds=[0.0:inf]>), ('fwhm', <Parameter 'fwhm', value=35.3223, bounds=[-inf:inf], expr='2.3548200*sigma'>), ('height', <Parameter 'height', value=19.149230400000004, bounds=[-inf:inf], expr='0.3989423*amplitude/max(1e-15, sigma)'>)])",
      "text/html": "<table><tr><th> name </th><th> value </th><th> initial value </th><th> min </th><th> max </th><th> vary </th><th> expression </th></tr><tr><td> amplitude </td><td>  720.000000 </td><td> None </td><td>        -inf </td><td>         inf </td><td> True </td><td>  </td></tr><tr><td> center </td><td>  60.0000000 </td><td> None </td><td>        -inf </td><td>         inf </td><td> True </td><td>  </td></tr><tr><td> sigma </td><td>  15.0000000 </td><td> None </td><td>  0.00000000 </td><td>         inf </td><td> True </td><td>  </td></tr><tr><td> fwhm </td><td>  35.3223000 </td><td> None </td><td>        -inf </td><td>         inf </td><td> False </td><td> 2.3548200*sigma </td></tr><tr><td> height </td><td>  19.1492304 </td><td> None </td><td>        -inf </td><td>         inf </td><td> False </td><td> 0.3989423*amplitude/max(1e-15, sigma) </td></tr></table>"
     },
     "execution_count": 7,
     "metadata": {},
     "output_type": "execute_result"
    }
   ],
   "source": [
    "gauss = models.GaussianModel()\n",
    "first_guess = gauss.guess(y, x)\n",
    "first_guess"
   ],
   "metadata": {
    "collapsed": false,
    "pycharm": {
     "name": "#%%\n"
    }
   }
  },
  {
   "cell_type": "code",
   "execution_count": 8,
   "outputs": [
    {
     "data": {
      "text/plain": "<lmfit.model.ModelResult at 0x12fca1700>",
      "text/html": "<h2> Model</h2> Model(gaussian) <h2>Fit Statistics</h2><table><tr><td>fitting method</td><td>leastsq</td><td></td></tr><tr><td># function evals</td><td>13</td><td></td></tr><tr><td># data points</td><td>8</td><td></td></tr><tr><td># variables</td><td>3</td><td></td></tr><tr><td>chi-square</td><td> 2.02223322</td><td></td></tr><tr><td>reduced chi-square</td><td> 0.40444664</td><td></td></tr><tr><td>Akaike info crit.</td><td>-5.00191267</td><td></td></tr><tr><td>Bayesian info crit.</td><td>-4.76358805</td><td></td></tr></table><h2>Variables</h2><table><tr><th> name </th><th> value </th><th> standard error </th><th> relative error </th><th> initial value </th><th> min </th><th> max </th><th> vary </th><th> expression </th></tr><tr><td> amplitude </td><td>  801.690915 </td><td>  58.4759654 </td><td> (7.29%) </td><td> 720.0 </td><td>        -inf </td><td>         inf </td><td> True </td><td>  </td></tr><tr><td> center </td><td>  61.8208268 </td><td>  1.43858876 </td><td> (2.33%) </td><td> 60.0 </td><td>        -inf </td><td>         inf </td><td> True </td><td>  </td></tr><tr><td> sigma </td><td>  18.2635376 </td><td>  1.29580916 </td><td> (7.10%) </td><td> 15.0 </td><td>  0.00000000 </td><td>         inf </td><td> True </td><td>  </td></tr><tr><td> fwhm </td><td>  43.0073437 </td><td>  3.05139733 </td><td> (7.10%) </td><td> 35.3223 </td><td>        -inf </td><td>         inf </td><td> False </td><td> 2.3548200*sigma </td></tr><tr><td> height </td><td>  17.5118547 </td><td>  1.63561642 </td><td> (9.34%) </td><td> 19.149230400000004 </td><td>        -inf </td><td>         inf </td><td> False </td><td> 0.3989423*amplitude/max(1e-15, sigma) </td></tr></table><h2>Correlations (unreported correlations are < 0.100)</h2><table><tr><td>amplitude</td><td>sigma</td><td>0.1575</td></tr></table>"
     },
     "execution_count": 8,
     "metadata": {},
     "output_type": "execute_result"
    }
   ],
   "source": [
    "fit = gauss.fit(y, x=x, weights=1/np.sqrt(y), params=first_guess)\n",
    "fit"
   ],
   "metadata": {
    "collapsed": false,
    "pycharm": {
     "name": "#%%\n"
    }
   }
  },
  {
   "cell_type": "code",
   "execution_count": 9,
   "outputs": [
    {
     "data": {
      "text/plain": "Text(0, 0.5, 'Count')"
     },
     "execution_count": 9,
     "metadata": {},
     "output_type": "execute_result"
    },
    {
     "data": {
      "text/plain": "<Figure size 432x432 with 2 Axes>",
      "image/png": "[encoded data removed]"
     },
     "metadata": {
      "needs_background": "light"
     },
     "output_type": "display_data"
    }
   ],
   "source": [
    "fit.plot(numpoints=50)\n",
    "plt.xlabel(\"Value\")\n",
    "plt.ylabel(\"Count\")\n"
   ],
   "metadata": {
    "collapsed": false,
    "pycharm": {
     "name": "#%%\n"
    }
   }
  }
 ],
 "metadata": {
  "kernelspec": {
   "display_name": "Python 3",
   "language": "python",
   "name": "python3"
  },
  "language_info": {
   "codemirror_mode": {
    "name": "ipython",
    "version": 2
   },
   "file_extension": ".py",
   "mimetype": "text/x-python",
   "name": "python",
   "nbconvert_exporter": "python",
   "pygments_lexer": "ipython2",
   "version": "2.7.6"
  }
 },
 "nbformat": 4,
 "nbformat_minor": 0
}